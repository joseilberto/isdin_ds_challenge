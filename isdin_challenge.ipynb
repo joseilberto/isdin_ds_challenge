{
 "cells": [
  {
   "attachments": {},
   "cell_type": "markdown",
   "metadata": {},
   "source": [
    "# ISDIN data challenge\n",
    "\n",
    "Recogemos los datos de consumo de nuestros clientes en la plataforma online para diferentes regiones en las que opera la compañía. De esta plataforma extraemos algunos detalles el usuario y la fecha en la que estos adquieren los productos. \n",
    "\n",
    "De cara a optimizar la red logística y planificar la estrategía, se desea predecir cuáles serán las ventas futuras de cada uno de los productos en la región C, de forma trimestral y para los próximos 4 trimestres.\n",
    "\n",
    "El director de negocio espera que el informe contenga:\n",
    "- La preparación de un modelo predictivo en Python.\n",
    "- La previsiones de ventas para los próximos 4 trimestres.\n",
    "- Conclusión de los datos obtenidos.\n",
    "- Principales recomendaciones para mejorar el proceso.\n",
    "\n",
    "El formato de entrega es un zip con código fuente y la presentación."
   ]
  },
  {
   "attachments": {},
   "cell_type": "markdown",
   "metadata": {},
   "source": [
    "## Visualización de los datos y posibles correlaciones\n",
    "\n",
    "En este apartado pretendemos visualizar los datos, analizando los tipos de variables y este análisis inicial nos ayudará a entender las relaciones entre las variables dependientes e independientes."
   ]
  },
  {
   "attachments": {},
   "cell_type": "markdown",
   "metadata": {},
   "source": [
    "### Cargando los paquetes y métodos necesarios"
   ]
  },
  {
   "cell_type": "code",
   "execution_count": 1,
   "metadata": {},
   "outputs": [],
   "source": [
    "%matplotlib inline\n",
    "%load_ext autoreload\n",
    "%autoreload 2"
   ]
  },
  {
   "cell_type": "code",
   "execution_count": 151,
   "metadata": {},
   "outputs": [],
   "source": [
    "import os\n",
    "import numpy as np\n",
    "import pandas as pd\n",
    "import matplotlib.pyplot as plt\n",
    "\n",
    "from dython.nominal import associations\n",
    "from os.path import join\n",
    "from sklearn.model_selection import train_test_split, cross_validate\n",
    "from sklearn.utils import class_weight\n",
    "\n",
    "from isdin.read_data import read_csv_data\n",
    "from isdin.train import train_models"
   ]
  },
  {
   "attachments": {},
   "cell_type": "markdown",
   "metadata": {},
   "source": [
    "### Definiendo la ruta del archivo con los datos y cargándolo\n",
    "\n",
    "El método de lectura del archivo csv nos devuelve dos pandas dataframes, uno que contiene las variables como variables categóricas para `user_id`, `user_potential`, `region`, `product_id`, `product_family` y `season`, una variable del tipo datetime llamada `transaction_date` y la variable numérica `user_age`. La variable `season` se refiere a la temporada del año en la cual se ha realizado la transacción. Esta variable categórica representa los siguientes meses: \n",
    "- `season=0` (Diciembre, Enero y Febrero)\n",
    "- `season=1` (Marzo, Abril y Mayo)\n",
    "- `season=2` (Junio, Julio y Agosto)\n",
    "- `season=3` (Septiembre, Octubre y Noviembre)\n",
    "\n",
    "El otro dataframe, nos devuelve las mismas variables codificadas para que las utilicemos en los modelos predictivos. Para simplificar el análisis, se han eliminado todas las líneas en las cuales el valor de una de las siguientes variables no estuviera presente: `user_id`, `user_age`, `region`, `product_id`, `product_family`."
   ]
  },
  {
   "cell_type": "code",
   "execution_count": 152,
   "metadata": {},
   "outputs": [
    {
     "data": {
      "text/html": [
       "<div>\n",
       "<style scoped>\n",
       "    .dataframe tbody tr th:only-of-type {\n",
       "        vertical-align: middle;\n",
       "    }\n",
       "\n",
       "    .dataframe tbody tr th {\n",
       "        vertical-align: top;\n",
       "    }\n",
       "\n",
       "    .dataframe thead th {\n",
       "        text-align: right;\n",
       "    }\n",
       "</style>\n",
       "<table border=\"1\" class=\"dataframe\">\n",
       "  <thead>\n",
       "    <tr style=\"text-align: right;\">\n",
       "      <th></th>\n",
       "      <th>user_id</th>\n",
       "      <th>user_age</th>\n",
       "      <th>user_potential</th>\n",
       "      <th>region</th>\n",
       "      <th>product_id</th>\n",
       "      <th>product_family</th>\n",
       "      <th>transaction_date</th>\n",
       "      <th>season</th>\n",
       "    </tr>\n",
       "  </thead>\n",
       "  <tbody>\n",
       "    <tr>\n",
       "      <th>0</th>\n",
       "      <td>g3TQxW2Vs0htSP3TNaiu+w==</td>\n",
       "      <td>38.0</td>\n",
       "      <td>3.0</td>\n",
       "      <td>Region D</td>\n",
       "      <td>1.0</td>\n",
       "      <td>family_C</td>\n",
       "      <td>2023-02-13</td>\n",
       "      <td>0</td>\n",
       "    </tr>\n",
       "    <tr>\n",
       "      <th>1</th>\n",
       "      <td>CMiS9GAaDCxPgmWLAaemnA==</td>\n",
       "      <td>48.0</td>\n",
       "      <td>7.0</td>\n",
       "      <td>Region C</td>\n",
       "      <td>1.0</td>\n",
       "      <td>family_C</td>\n",
       "      <td>2023-02-13</td>\n",
       "      <td>0</td>\n",
       "    </tr>\n",
       "    <tr>\n",
       "      <th>2</th>\n",
       "      <td>CMiS9GAaDCxPgmWLAaemnA==</td>\n",
       "      <td>48.0</td>\n",
       "      <td>7.0</td>\n",
       "      <td>Region C</td>\n",
       "      <td>1.0</td>\n",
       "      <td>family_C</td>\n",
       "      <td>2023-02-13</td>\n",
       "      <td>0</td>\n",
       "    </tr>\n",
       "    <tr>\n",
       "      <th>3</th>\n",
       "      <td>Smkz8+f2knM3wln9JpPz5Q==</td>\n",
       "      <td>63.0</td>\n",
       "      <td>0.0</td>\n",
       "      <td>Region C</td>\n",
       "      <td>1.0</td>\n",
       "      <td>family_C</td>\n",
       "      <td>2023-02-13</td>\n",
       "      <td>0</td>\n",
       "    </tr>\n",
       "    <tr>\n",
       "      <th>4</th>\n",
       "      <td>95PezHJgs6YTANjN72hxLw==</td>\n",
       "      <td>33.0</td>\n",
       "      <td>7.0</td>\n",
       "      <td>Region B</td>\n",
       "      <td>1.0</td>\n",
       "      <td>family_C</td>\n",
       "      <td>2023-02-12</td>\n",
       "      <td>0</td>\n",
       "    </tr>\n",
       "  </tbody>\n",
       "</table>\n",
       "</div>"
      ],
      "text/plain": [
       "                    user_id  user_age user_potential    region product_id   \n",
       "0  g3TQxW2Vs0htSP3TNaiu+w==      38.0            3.0  Region D        1.0  \\\n",
       "1  CMiS9GAaDCxPgmWLAaemnA==      48.0            7.0  Region C        1.0   \n",
       "2  CMiS9GAaDCxPgmWLAaemnA==      48.0            7.0  Region C        1.0   \n",
       "3  Smkz8+f2knM3wln9JpPz5Q==      63.0            0.0  Region C        1.0   \n",
       "4  95PezHJgs6YTANjN72hxLw==      33.0            7.0  Region B        1.0   \n",
       "\n",
       "  product_family transaction_date season  \n",
       "0       family_C       2023-02-13      0  \n",
       "1       family_C       2023-02-13      0  \n",
       "2       family_C       2023-02-13      0  \n",
       "3       family_C       2023-02-13      0  \n",
       "4       family_C       2023-02-12      0  "
      ]
     },
     "execution_count": 152,
     "metadata": {},
     "output_type": "execute_result"
    }
   ],
   "source": [
    "filepath = join(\".\", \"data\", \"sales_data.csv\")\n",
    "data, labelled_df = read_csv_data(filepath)\n",
    "data.head()"
   ]
  },
  {
   "cell_type": "code",
   "execution_count": 153,
   "metadata": {},
   "outputs": [
    {
     "data": {
      "text/html": [
       "<div>\n",
       "<style scoped>\n",
       "    .dataframe tbody tr th:only-of-type {\n",
       "        vertical-align: middle;\n",
       "    }\n",
       "\n",
       "    .dataframe tbody tr th {\n",
       "        vertical-align: top;\n",
       "    }\n",
       "\n",
       "    .dataframe thead th {\n",
       "        text-align: right;\n",
       "    }\n",
       "</style>\n",
       "<table border=\"1\" class=\"dataframe\">\n",
       "  <thead>\n",
       "    <tr style=\"text-align: right;\">\n",
       "      <th></th>\n",
       "      <th>user_id</th>\n",
       "      <th>user_potential</th>\n",
       "      <th>region</th>\n",
       "      <th>product_id</th>\n",
       "      <th>product_family</th>\n",
       "      <th>season</th>\n",
       "      <th>user_age</th>\n",
       "      <th>transaction_date</th>\n",
       "    </tr>\n",
       "  </thead>\n",
       "  <tbody>\n",
       "    <tr>\n",
       "      <th>0</th>\n",
       "      <td>13473</td>\n",
       "      <td>3</td>\n",
       "      <td>3</td>\n",
       "      <td>0</td>\n",
       "      <td>2</td>\n",
       "      <td>0</td>\n",
       "      <td>38.0</td>\n",
       "      <td>2023-02-13</td>\n",
       "    </tr>\n",
       "    <tr>\n",
       "      <th>1</th>\n",
       "      <td>4430</td>\n",
       "      <td>7</td>\n",
       "      <td>2</td>\n",
       "      <td>0</td>\n",
       "      <td>2</td>\n",
       "      <td>0</td>\n",
       "      <td>48.0</td>\n",
       "      <td>2023-02-13</td>\n",
       "    </tr>\n",
       "    <tr>\n",
       "      <th>2</th>\n",
       "      <td>4430</td>\n",
       "      <td>7</td>\n",
       "      <td>2</td>\n",
       "      <td>0</td>\n",
       "      <td>2</td>\n",
       "      <td>0</td>\n",
       "      <td>48.0</td>\n",
       "      <td>2023-02-13</td>\n",
       "    </tr>\n",
       "    <tr>\n",
       "      <th>3</th>\n",
       "      <td>9415</td>\n",
       "      <td>0</td>\n",
       "      <td>2</td>\n",
       "      <td>0</td>\n",
       "      <td>2</td>\n",
       "      <td>0</td>\n",
       "      <td>63.0</td>\n",
       "      <td>2023-02-13</td>\n",
       "    </tr>\n",
       "    <tr>\n",
       "      <th>4</th>\n",
       "      <td>3451</td>\n",
       "      <td>7</td>\n",
       "      <td>1</td>\n",
       "      <td>0</td>\n",
       "      <td>2</td>\n",
       "      <td>0</td>\n",
       "      <td>33.0</td>\n",
       "      <td>2023-02-12</td>\n",
       "    </tr>\n",
       "  </tbody>\n",
       "</table>\n",
       "</div>"
      ],
      "text/plain": [
       "   user_id  user_potential  region  product_id  product_family  season   \n",
       "0    13473               3       3           0               2       0  \\\n",
       "1     4430               7       2           0               2       0   \n",
       "2     4430               7       2           0               2       0   \n",
       "3     9415               0       2           0               2       0   \n",
       "4     3451               7       1           0               2       0   \n",
       "\n",
       "   user_age transaction_date  \n",
       "0      38.0       2023-02-13  \n",
       "1      48.0       2023-02-13  \n",
       "2      48.0       2023-02-13  \n",
       "3      63.0       2023-02-13  \n",
       "4      33.0       2023-02-12  "
      ]
     },
     "execution_count": 153,
     "metadata": {},
     "output_type": "execute_result"
    }
   ],
   "source": [
    "labelled_df.head()"
   ]
  },
  {
   "cell_type": "code",
   "execution_count": 154,
   "metadata": {},
   "outputs": [
    {
     "data": {
      "text/html": [
       "<div>\n",
       "<style scoped>\n",
       "    .dataframe tbody tr th:only-of-type {\n",
       "        vertical-align: middle;\n",
       "    }\n",
       "\n",
       "    .dataframe tbody tr th {\n",
       "        vertical-align: top;\n",
       "    }\n",
       "\n",
       "    .dataframe thead th {\n",
       "        text-align: right;\n",
       "    }\n",
       "</style>\n",
       "<table border=\"1\" class=\"dataframe\">\n",
       "  <thead>\n",
       "    <tr style=\"text-align: right;\">\n",
       "      <th></th>\n",
       "      <th>user_id</th>\n",
       "      <th>user_potential</th>\n",
       "      <th>region</th>\n",
       "      <th>product_id</th>\n",
       "      <th>product_family</th>\n",
       "      <th>season</th>\n",
       "      <th>user_age</th>\n",
       "      <th>transaction_date</th>\n",
       "    </tr>\n",
       "  </thead>\n",
       "  <tbody>\n",
       "    <tr>\n",
       "      <th>count</th>\n",
       "      <td>27441.000000</td>\n",
       "      <td>27441.000000</td>\n",
       "      <td>27441.000000</td>\n",
       "      <td>27441.000000</td>\n",
       "      <td>27441.000000</td>\n",
       "      <td>27441.000000</td>\n",
       "      <td>27441.000000</td>\n",
       "      <td>27441</td>\n",
       "    </tr>\n",
       "    <tr>\n",
       "      <th>mean</th>\n",
       "      <td>9804.867716</td>\n",
       "      <td>5.058380</td>\n",
       "      <td>1.513975</td>\n",
       "      <td>1.814766</td>\n",
       "      <td>0.118618</td>\n",
       "      <td>1.446959</td>\n",
       "      <td>34.628038</td>\n",
       "      <td>2022-10-17 02:03:25.444407808</td>\n",
       "    </tr>\n",
       "    <tr>\n",
       "      <th>min</th>\n",
       "      <td>0.000000</td>\n",
       "      <td>0.000000</td>\n",
       "      <td>0.000000</td>\n",
       "      <td>0.000000</td>\n",
       "      <td>0.000000</td>\n",
       "      <td>0.000000</td>\n",
       "      <td>18.000000</td>\n",
       "      <td>2021-06-16 00:00:00</td>\n",
       "    </tr>\n",
       "    <tr>\n",
       "      <th>25%</th>\n",
       "      <td>4851.000000</td>\n",
       "      <td>3.000000</td>\n",
       "      <td>0.000000</td>\n",
       "      <td>2.000000</td>\n",
       "      <td>0.000000</td>\n",
       "      <td>0.000000</td>\n",
       "      <td>26.000000</td>\n",
       "      <td>2022-09-07 00:00:00</td>\n",
       "    </tr>\n",
       "    <tr>\n",
       "      <th>50%</th>\n",
       "      <td>9774.000000</td>\n",
       "      <td>5.000000</td>\n",
       "      <td>1.000000</td>\n",
       "      <td>2.000000</td>\n",
       "      <td>0.000000</td>\n",
       "      <td>2.000000</td>\n",
       "      <td>32.000000</td>\n",
       "      <td>2022-11-13 00:00:00</td>\n",
       "    </tr>\n",
       "    <tr>\n",
       "      <th>75%</th>\n",
       "      <td>14767.000000</td>\n",
       "      <td>8.000000</td>\n",
       "      <td>3.000000</td>\n",
       "      <td>2.000000</td>\n",
       "      <td>0.000000</td>\n",
       "      <td>3.000000</td>\n",
       "      <td>40.000000</td>\n",
       "      <td>2023-01-05 00:00:00</td>\n",
       "    </tr>\n",
       "    <tr>\n",
       "      <th>max</th>\n",
       "      <td>19622.000000</td>\n",
       "      <td>10.000000</td>\n",
       "      <td>3.000000</td>\n",
       "      <td>4.000000</td>\n",
       "      <td>2.000000</td>\n",
       "      <td>3.000000</td>\n",
       "      <td>121.000000</td>\n",
       "      <td>2023-02-13 00:00:00</td>\n",
       "    </tr>\n",
       "    <tr>\n",
       "      <th>std</th>\n",
       "      <td>5696.502156</td>\n",
       "      <td>2.942541</td>\n",
       "      <td>1.184615</td>\n",
       "      <td>0.680086</td>\n",
       "      <td>0.412668</td>\n",
       "      <td>1.368389</td>\n",
       "      <td>15.235250</td>\n",
       "      <td>NaN</td>\n",
       "    </tr>\n",
       "  </tbody>\n",
       "</table>\n",
       "</div>"
      ],
      "text/plain": [
       "            user_id  user_potential        region    product_id   \n",
       "count  27441.000000    27441.000000  27441.000000  27441.000000  \\\n",
       "mean    9804.867716        5.058380      1.513975      1.814766   \n",
       "min        0.000000        0.000000      0.000000      0.000000   \n",
       "25%     4851.000000        3.000000      0.000000      2.000000   \n",
       "50%     9774.000000        5.000000      1.000000      2.000000   \n",
       "75%    14767.000000        8.000000      3.000000      2.000000   \n",
       "max    19622.000000       10.000000      3.000000      4.000000   \n",
       "std     5696.502156        2.942541      1.184615      0.680086   \n",
       "\n",
       "       product_family        season      user_age   \n",
       "count    27441.000000  27441.000000  27441.000000  \\\n",
       "mean         0.118618      1.446959     34.628038   \n",
       "min          0.000000      0.000000     18.000000   \n",
       "25%          0.000000      0.000000     26.000000   \n",
       "50%          0.000000      2.000000     32.000000   \n",
       "75%          0.000000      3.000000     40.000000   \n",
       "max          2.000000      3.000000    121.000000   \n",
       "std          0.412668      1.368389     15.235250   \n",
       "\n",
       "                    transaction_date  \n",
       "count                          27441  \n",
       "mean   2022-10-17 02:03:25.444407808  \n",
       "min              2021-06-16 00:00:00  \n",
       "25%              2022-09-07 00:00:00  \n",
       "50%              2022-11-13 00:00:00  \n",
       "75%              2023-01-05 00:00:00  \n",
       "max              2023-02-13 00:00:00  \n",
       "std                              NaN  "
      ]
     },
     "execution_count": 154,
     "metadata": {},
     "output_type": "execute_result"
    }
   ],
   "source": [
    "labelled_df.describe()"
   ]
  },
  {
   "attachments": {},
   "cell_type": "markdown",
   "metadata": {},
   "source": [
    "Vemos aquí algunas características interesantes de los datos:\n",
    "- La clase del potencial de cada usuario (`user_potential`) parece estar balanceada, es decir, no tenemos un grupo particularmente fiel o no a un grupo de productos independientemente de la región.\n",
    "- Los usuarios también están demográficamente distribuidos de manera uniforme (indicado por el promedia de 1.51 en la columna `region`). \n",
    "- Sin embargo, los productos con `product_id` igual o inferior a 3 son mucho más populares que los demás, haciendo que el valor promedio del `product_id` se acerque a 1.8 (2.8 con el offset de indexación de las categorias), en lugar de 2.0 (o 3.0 sin offset) como esperado. \n",
    "- Suponiendo en este momento, que los `product_id` pertenecen a una `product_family` en concreto, vemos que el promedio de `product_family` indica que la mayoría de los productos se encuentran en la categoria family_A. Como veremos en el siguiente apartado, las variables `product_id` y `product_family` están fuertemente correlacionadas. "
   ]
  },
  {
   "attachments": {},
   "cell_type": "markdown",
   "metadata": {},
   "source": [
    "## Visualizando las correlaciones entre variables\n",
    "\n",
    "Consideramos que nuestro conjunto de datos está compuesto de variables categóricas y numéricas. Por tanto, para visualizar las correlaciones presentes entre variables, tenemos que calcular las correlaciones con distintos métodos. La función de correlación típica asume que los valores numéricos están igualmente separados lo que no es correcto para las variables categóricas. El paquete dython nos permite combinar distintos métodos de calcular la correlación en una [única función](http://shakedzy.xyz/dython/modules/nominal/). Por defecto, aplicamos los siguientes métodos para calcular la correlación:\n",
    "- **Pearson's R** para relaciones de variables contínua-contínua\n",
    "- **Correlation ratio** para relaciones de variables categórica-contínua\n",
    "- **Cramer's V** para relaciones de variables categórica-categórica. "
   ]
  },
  {
   "cell_type": "code",
   "execution_count": 155,
   "metadata": {},
   "outputs": [
    {
     "data": {
      "image/png": "[encoded data removed]",
      "text/plain": [
       "<Figure size 1200x800 with 2 Axes>"
      ]
     },
     "metadata": {},
     "output_type": "display_data"
    }
   ],
   "source": [
    "correlations = associations(labelled_df.loc[:, labelled_df.columns != \"transaction_date\"], numerical_columns= [\"user_age\"], figsize = (12, 8))"
   ]
  },
  {
   "attachments": {},
   "cell_type": "markdown",
   "metadata": {},
   "source": [
    "Aquí observamos algunas características de los datos que serán claves para las estratégias de entrenamiento de modelos predictivos:\n",
    "- Por un lado, el `user_id` que parece ser un código hash está fuertemente correlacionado a `user_age` y también está correlacionado con las variables `user_potential` y `region`. Es natural que cada usuario solo tenga una edad, pero para usuarios que poseen múltiples entradas en distintos años en la base datos, parece no haber una regla para actualizar la edad de los usuarios a partir de la fecha de nacimiento/cumpleaños. Por otro lado, el hecho de que la id de usuario esté parcialmente correlacionado con la variable `user_potential` indica que para un mismo usuario esa cantidad puede variar, es decir que el hecho de crear más o menos entradas en la base datos le cambia su score. Mientras que la correlación parcial con la variable `region` indica que puede haber comprado en distintas regiones. Desde el punto de vista análitico, vamos a utilizar esta información para reducir la dimensionalidad de nuestro problema. \n",
    "- Las variables `user_potential`. `region`, `user_age` y `season` parecen no estar fuertemente correlacionadas a las demás variables del conjunto de datos. Para las tres primeras, eso indica una dependencia directa a cada usuario en concreto. Para la variable `season`, lo que notamos es que no hay estacionalidad en los registros respecto a los usuarios o los tipos de producto.\n",
    "- Una fuerte correlación es observada para las variables `product_id` y `product_family`. Como esperado, cada producto pertenece a una familia en concreto. Lo que nos puede ayudar a reducir la cantidad de variables de nuestros modelos predictivos."
   ]
  },
  {
   "attachments": {},
   "cell_type": "markdown",
   "metadata": {},
   "source": [
    "## Entendiendo los productos más populares y la posible existencia de estacionalidad\n",
    "\n",
    "Ya hemos detectado que algunos productos son mucho más frecuentes que otros. Nos gustaría entender en el presente apartado cuáles son los productos más frecuentes en la base de datos y a qué `product_family` pertenencen. Además, podemos intentar inferir si hay clases de productos más frecuentes en distintas estaciones del año, a pesar del análisis de correlación del apartado anterior indicar lo contrario. \n",
    "\n"
   ]
  },
  {
   "attachments": {},
   "cell_type": "markdown",
   "metadata": {},
   "source": [
    "### Productos más populares"
   ]
  },
  {
   "cell_type": "code",
   "execution_count": 132,
   "metadata": {},
   "outputs": [
    {
     "data": {
      "text/plain": [
       "product_id  product_family\n",
       "1.0         family_A              0\n",
       "            family_B              0\n",
       "            family_C            902\n",
       "2.0         family_A           5691\n",
       "            family_B              0\n",
       "            family_C              0\n",
       "3.0         family_A          19397\n",
       "            family_B              0\n",
       "            family_C              0\n",
       "4.0         family_A              0\n",
       "            family_B            490\n",
       "            family_C              0\n",
       "5.0         family_A              0\n",
       "            family_B            961\n",
       "            family_C              0\n",
       "dtype: int64"
      ]
     },
     "execution_count": 132,
     "metadata": {},
     "output_type": "execute_result"
    }
   ],
   "source": [
    "data.groupby(by = [\"product_id\", \"product_family\"]).size()"
   ]
  },
  {
   "attachments": {},
   "cell_type": "markdown",
   "metadata": {},
   "source": [
    "Esa tabla nos muestra que la `family_A` es la familia de productos más popular en la base de datos, siendo el producto 3.0 el más popular de todos. Un buen modelo predictivo tendrá como punto de referencia la varianza expresa en esa tabla.  "
   ]
  },
  {
   "attachments": {},
   "cell_type": "markdown",
   "metadata": {},
   "source": [
    "### Productos más populares por región"
   ]
  },
  {
   "cell_type": "code",
   "execution_count": 97,
   "metadata": {},
   "outputs": [
    {
     "data": {
      "text/plain": [
       "product_id  region  \n",
       "1.0         Region A     108\n",
       "            Region B     273\n",
       "            Region C     344\n",
       "            Region D     177\n",
       "2.0         Region A    1818\n",
       "            Region B    1672\n",
       "            Region C     609\n",
       "            Region D    1592\n",
       "3.0         Region A    4710\n",
       "            Region B    5658\n",
       "            Region C    2322\n",
       "            Region D    6707\n",
       "4.0         Region A       4\n",
       "            Region B     383\n",
       "            Region C      33\n",
       "            Region D      70\n",
       "5.0         Region A     319\n",
       "            Region B     300\n",
       "            Region C      21\n",
       "            Region D     321\n",
       "dtype: int64"
      ]
     },
     "execution_count": 97,
     "metadata": {},
     "output_type": "execute_result"
    }
   ],
   "source": [
    "data.groupby(by = [\"product_id\", \"region\"]).size()"
   ]
  },
  {
   "attachments": {},
   "cell_type": "markdown",
   "metadata": {},
   "source": [
    "Una otra característica importante es que los productos más populares en toda la población son los menos populares en la región de interés de este proyecto (`Region C`). Vemos que los productos de la familia B tienen baja demanda en la `Region C`, mientras que el producto de la familia C encuentra más éxito en la región. La presente decisión nos puede ayudar a entrenar modelos predictivos para cada región, en el caso de que los modelos no sean capaces de capturar la varianza en los datos. "
   ]
  },
  {
   "attachments": {},
   "cell_type": "markdown",
   "metadata": {},
   "source": [
    "### Estacionalidad por región y producto"
   ]
  },
  {
   "cell_type": "code",
   "execution_count": 156,
   "metadata": {},
   "outputs": [
    {
     "data": {
      "text/plain": [
       "season  region  \n",
       "0       Region A    2431\n",
       "        Region B    3430\n",
       "        Region C    1987\n",
       "        Region D    4183\n",
       "1       Region A     290\n",
       "        Region B     421\n",
       "        Region C     326\n",
       "        Region D     345\n",
       "2       Region A     929\n",
       "        Region B    1495\n",
       "        Region C     440\n",
       "        Region D     896\n",
       "3       Region A    3309\n",
       "        Region B    2940\n",
       "        Region C     576\n",
       "        Region D    3443\n",
       "dtype: int64"
      ]
     },
     "execution_count": 156,
     "metadata": {},
     "output_type": "execute_result"
    }
   ],
   "source": [
    "data.groupby(by = [\"season\", \"region\"]).size()"
   ]
  },
  {
   "attachments": {},
   "cell_type": "markdown",
   "metadata": {},
   "source": [
    "Vemos que en la `Region C` la mayoría de las entradas se encuentran en la estación del año que comprende los meses de Diciembre, Enero y Febrero (`season = 0`). Podemos comprobar si esa frecuencia posee alguna correlación con algún producto en concreto. Comprobamos la proporción de productos por temporada respecto a los valores totales. "
   ]
  },
  {
   "cell_type": "code",
   "execution_count": 165,
   "metadata": {},
   "outputs": [
    {
     "data": {
      "text/plain": [
       "season  product_id\n",
       "0       1.0           0.703488\n",
       "        2.0           0.577997\n",
       "        3.0           0.581826\n",
       "        4.0           0.787879\n",
       "        5.0           0.761905\n",
       "1       1.0           0.072674\n",
       "        2.0           0.118227\n",
       "        3.0           0.098191\n",
       "        4.0           0.030303\n",
       "        5.0           0.000000\n",
       "2       1.0           0.090116\n",
       "        2.0           0.154351\n",
       "        3.0           0.135228\n",
       "        4.0           0.030303\n",
       "        5.0           0.000000\n",
       "3       1.0           0.133721\n",
       "        2.0           0.149425\n",
       "        3.0           0.184755\n",
       "        4.0           0.151515\n",
       "        5.0           0.238095\n",
       "dtype: float64"
      ]
     },
     "execution_count": 165,
     "metadata": {},
     "output_type": "execute_result"
    }
   ],
   "source": [
    "data[data[\"region\"] == 'Region C'].groupby(by = [\"season\", \"product_id\"]).size() / data[data[\"region\"] == 'Region C'].groupby(by = [\"product_id\"]).size()"
   ]
  },
  {
   "attachments": {},
   "cell_type": "markdown",
   "metadata": {},
   "source": [
    "Aquí notamos que la mayoría de las entradas para todos los productos en la `Region C` se encuentran en los meses de Diciembre, Enero y Febrero. Esa es una información que esperamos capturar en un modelo predictivo."
   ]
  },
  {
   "attachments": {},
   "cell_type": "markdown",
   "metadata": {},
   "source": [
    "## Modelo predictivo\n",
    "\n",
    "En este apartado, entrenamos un modelo para predecir las ventas en los próximos 4 trimestres. Este apartado se divide en: ingeniería de características, selección de modelos, entrenamiento del mejor modelo y discusión de los resultados."
   ]
  },
  {
   "attachments": {},
   "cell_type": "markdown",
   "metadata": {},
   "source": [
    "### Ingeniería de características\n",
    "\n",
    "En este apartado, extraemos y transformamos los datos disponibles para facilitar/posibilitar el proceso de entrenamiento del model predictivo. Lo primero que haremos es reducir la dimensionalidad de nuestro problema. Ya hemos comprobado que la variable `user_id` está correlacionada con otras tres variables que nos pueden ayudar a reducir la dimensión de nuestro problema. También podemos utilizar la variable `product_id`, en lugar de utilizar la variable `product_family`. También vamos a separar los conjuntos de datos de entrenamiento y validación/test.  "
   ]
  },
  {
   "cell_type": "code",
   "execution_count": null,
   "metadata": {},
   "outputs": [],
   "source": []
  }
 ],
 "metadata": {
  "kernelspec": {
   "display_name": "isdin",
   "language": "python",
   "name": "python3"
  },
  "language_info": {
   "codemirror_mode": {
    "name": "ipython",
    "version": 3
   },
   "file_extension": ".py",
   "mimetype": "text/x-python",
   "name": "python",
   "nbconvert_exporter": "python",
   "pygments_lexer": "ipython3",
   "version": "3.8.16"
  },
  "orig_nbformat": 4
 },
 "nbformat": 4,
 "nbformat_minor": 2
}
