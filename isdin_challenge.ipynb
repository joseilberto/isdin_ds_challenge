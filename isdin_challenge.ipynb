{
 "cells": [
  {
   "attachments": {},
   "cell_type": "markdown",
   "metadata": {},
   "source": [
    "## Visualización de los datos y posibles correlaciones\n",
    "\n",
    "En este apartado pretendemos visualizar los datos, analizando los tipos de variables y este análisis inicial nos ayudará a entender las relaciones entre las variables dependientes e independientes."
   ]
  },
  {
   "attachments": {},
   "cell_type": "markdown",
   "metadata": {},
   "source": [
    "### Cargando los paquetes y métodos necesarios"
   ]
  },
  {
   "cell_type": "code",
   "execution_count": 1,
   "metadata": {},
   "outputs": [],
   "source": [
    "%matplotlib inline\n",
    "%load_ext autoreload\n",
    "%autoreload 2"
   ]
  },
  {
   "cell_type": "code",
   "execution_count": 2,
   "metadata": {},
   "outputs": [
    {
     "ename": "ModuleNotFoundError",
     "evalue": "No module named 'pkg_resources'",
     "output_type": "error",
     "traceback": [
      "\u001b[0;31m---------------------------------------------------------------------------\u001b[0m",
      "\u001b[0;31mModuleNotFoundError\u001b[0m                       Traceback (most recent call last)",
      "Cell \u001b[0;32mIn[2], line 6\u001b[0m\n\u001b[1;32m      3\u001b[0m \u001b[39mimport\u001b[39;00m \u001b[39mpandas\u001b[39;00m \u001b[39mas\u001b[39;00m \u001b[39mpd\u001b[39;00m\n\u001b[1;32m      4\u001b[0m \u001b[39mimport\u001b[39;00m \u001b[39mmatplotlib\u001b[39;00m\u001b[39m.\u001b[39;00m\u001b[39mpyplot\u001b[39;00m \u001b[39mas\u001b[39;00m \u001b[39mplt\u001b[39;00m\n\u001b[0;32m----> 6\u001b[0m \u001b[39mfrom\u001b[39;00m \u001b[39mdython\u001b[39;00m\u001b[39m.\u001b[39;00m\u001b[39mnominal\u001b[39;00m \u001b[39mimport\u001b[39;00m associations\n\u001b[1;32m      7\u001b[0m \u001b[39mfrom\u001b[39;00m \u001b[39mos\u001b[39;00m\u001b[39m.\u001b[39;00m\u001b[39mpath\u001b[39;00m \u001b[39mimport\u001b[39;00m join\n\u001b[1;32m      8\u001b[0m \u001b[39mfrom\u001b[39;00m \u001b[39msklearn\u001b[39;00m\u001b[39m.\u001b[39;00m\u001b[39mmodel_selection\u001b[39;00m \u001b[39mimport\u001b[39;00m train_test_split, cross_validate\n",
      "File \u001b[0;32m~/anaconda3/envs/isdin/lib/python3.8/site-packages/dython/__init__.py:12\u001b[0m\n\u001b[1;32m      8\u001b[0m     \u001b[39mreturn\u001b[39;00m get_distribution(\u001b[39m\"\u001b[39m\u001b[39mdython\u001b[39m\u001b[39m\"\u001b[39m)\u001b[39m.\u001b[39mversion\n\u001b[1;32m     11\u001b[0m __all__ \u001b[39m=\u001b[39m [\u001b[39m\"\u001b[39m\u001b[39m__version__\u001b[39m\u001b[39m\"\u001b[39m]\n\u001b[0;32m---> 12\u001b[0m __version__ \u001b[39m=\u001b[39m _get_version_from_setuptools()\n\u001b[1;32m     13\u001b[0m set_is_jupyter()\n",
      "File \u001b[0;32m~/anaconda3/envs/isdin/lib/python3.8/site-packages/dython/__init__.py:6\u001b[0m, in \u001b[0;36m_get_version_from_setuptools\u001b[0;34m()\u001b[0m\n\u001b[1;32m      5\u001b[0m \u001b[39mdef\u001b[39;00m \u001b[39m_get_version_from_setuptools\u001b[39m():\n\u001b[0;32m----> 6\u001b[0m     \u001b[39mfrom\u001b[39;00m \u001b[39mpkg_resources\u001b[39;00m \u001b[39mimport\u001b[39;00m get_distribution\n\u001b[1;32m      8\u001b[0m     \u001b[39mreturn\u001b[39;00m get_distribution(\u001b[39m\"\u001b[39m\u001b[39mdython\u001b[39m\u001b[39m\"\u001b[39m)\u001b[39m.\u001b[39mversion\n",
      "\u001b[0;31mModuleNotFoundError\u001b[0m: No module named 'pkg_resources'"
     ]
    }
   ],
   "source": [
    "import os\n",
    "import numpy as np\n",
    "import pandas as pd\n",
    "import matplotlib.pyplot as plt\n",
    "\n",
    "from dython.nominal import associations\n",
    "from os.path import join\n",
    "from sklearn.model_selection import train_test_split, cross_validate\n",
    "from sklearn.utils import class_weight"
   ]
  }
 ],
 "metadata": {
  "kernelspec": {
   "display_name": "isdin",
   "language": "python",
   "name": "python3"
  },
  "language_info": {
   "codemirror_mode": {
    "name": "ipython",
    "version": 3
   },
   "file_extension": ".py",
   "mimetype": "text/x-python",
   "name": "python",
   "nbconvert_exporter": "python",
   "pygments_lexer": "ipython3",
   "version": "3.8.16"
  },
  "orig_nbformat": 4
 },
 "nbformat": 4,
 "nbformat_minor": 2
}
